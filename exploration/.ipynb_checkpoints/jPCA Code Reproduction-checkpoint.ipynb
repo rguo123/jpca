{
 "cells": [
  {
   "cell_type": "markdown",
   "metadata": {},
   "source": [
    "# jPCA\n",
    "This notebook is to reproduce jPCA functionality.\n",
    "\n",
    "## Load in example data\n",
    "For development, we will focus on just one condition. "
   ]
  },
  {
   "cell_type": "code",
   "execution_count": 2,
   "metadata": {},
   "outputs": [],
   "source": [
    "import numpy as np\n",
    "from matplotlib import pyplot as plt\n",
    "from sklearn.decomposition import PCA\n",
    "from math import sqrt\n",
    "from scipy import optimize"
   ]
  },
  {
   "cell_type": "code",
   "execution_count": 5,
   "metadata": {},
   "outputs": [],
   "source": [
    "from scipy.io import loadmat\n",
    "\n",
    "x = loadmat(\"../data/exampleData.mat\")\n",
    "x = x['Data'][0][0][0]\n",
    "X = np.array(x)"
   ]
  },
  {
   "cell_type": "markdown",
   "metadata": {},
   "source": [
    "## 1. Preprocess using PCA\n",
    "There's another normalization preproc step but it is more data relevant than algo relevant so I will be leaving it out until later."
   ]
  },
  {
   "cell_type": "code",
   "execution_count": 4,
   "metadata": {},
   "outputs": [],
   "source": [
    "def pca_preproc(X, k):\n",
    "    pca = PCA(n_components=k)\n",
    "    pca.fit(X)\n",
    "    X_red = pca.transform(X)\n",
    "    return X_red, pca.explained_variance_ratio_"
   ]
  },
  {
   "cell_type": "code",
   "execution_count": 6,
   "metadata": {},
   "outputs": [
    {
     "data": {
      "text/plain": [
       "(61, 218)"
      ]
     },
     "execution_count": 6,
     "metadata": {},
     "output_type": "execute_result"
    }
   ],
   "source": [
    "X.shape"
   ]
  },
  {
   "cell_type": "code",
   "execution_count": 11,
   "metadata": {},
   "outputs": [],
   "source": [
    "X_red, _ = pca_preproc(X, k=6)"
   ]
  },
  {
   "cell_type": "code",
   "execution_count": 12,
   "metadata": {},
   "outputs": [
    {
     "data": {
      "text/plain": [
       "(61, 6)"
      ]
     },
     "execution_count": 12,
     "metadata": {},
     "output_type": "execute_result"
    }
   ],
   "source": [
    "X_red.shape"
   ]
  },
  {
   "cell_type": "markdown",
   "metadata": {},
   "source": [
    "## 2. Get Discrete Derivative of X_red\n",
    "Need to save X minus final state as it is used in later steps."
   ]
  },
  {
   "cell_type": "code",
   "execution_count": 14,
   "metadata": {},
   "outputs": [],
   "source": [
    "X_prestate = X_red[:-1,]\n",
    "dX = np.diff(X_red, axis=0)"
   ]
  },
  {
   "cell_type": "code",
   "execution_count": 22,
   "metadata": {},
   "outputs": [
    {
     "name": "stdout",
     "output_type": "stream",
     "text": [
      "(60, 6)\n",
      "(60, 6)\n"
     ]
    }
   ],
   "source": [
    "print(X_prestate.shape)\n",
    "print(dX.shape)"
   ]
  },
  {
   "cell_type": "markdown",
   "metadata": {},
   "source": [
    "## 3. Solve for M_skew\n",
    "The most important step"
   ]
  },
  {
   "cell_type": "code",
   "execution_count": 25,
   "metadata": {},
   "outputs": [],
   "source": [
    "M0, _, _, _ = np.linalg.lstsq(X_prestate, dX, rcond=None)\n",
    "M0_skew = .5*(M0 - M0.T)"
   ]
  },
  {
   "cell_type": "code",
   "execution_count": 29,
   "metadata": {},
   "outputs": [
    {
     "name": "stdout",
     "output_type": "stream",
     "text": [
      "[[ 0.         -0.09082191  0.0214932  -0.02473931 -0.11288055  0.10015587]\n",
      " [ 0.09082191  0.          0.04595647  0.03914008  0.09296161 -0.01832981]\n",
      " [-0.0214932  -0.04595647  0.         -0.14769268  0.02202633  0.03025298]\n",
      " [ 0.02473931 -0.03914008  0.14769268  0.         -0.14714837  0.06671926]\n",
      " [ 0.11288055 -0.09296161 -0.02202633  0.14714837  0.          0.19425025]\n",
      " [-0.10015587  0.01832981 -0.03025298 -0.06671926 -0.19425025  0.        ]]\n"
     ]
    }
   ],
   "source": [
    "M0.shape\n",
    "print(M0_skew)"
   ]
  },
  {
   "cell_type": "code",
   "execution_count": 36,
   "metadata": {},
   "outputs": [],
   "source": [
    "def mat2vec(mat):\n",
    "    return mat.flatten('F')\n",
    "\n",
    "\n",
    "def vec2mat(vec):\n",
    "    shape = (int(sqrt(vec.size)), -1)\n",
    "    return np.reshape(vec, shape, 'F')"
   ]
  },
  {
   "cell_type": "code",
   "execution_count": 31,
   "metadata": {},
   "outputs": [],
   "source": [
    "m_skew = mat2vec(M0_skew)"
   ]
  },
  {
   "cell_type": "code",
   "execution_count": 61,
   "metadata": {},
   "outputs": [
    {
     "data": {
      "text/plain": [
       "array([[ 0.        , -0.09082191,  0.0214932 , -0.02473931, -0.11288055,\n",
       "         0.10015587],\n",
       "       [ 0.09082191,  0.        ,  0.04595647,  0.03914008,  0.09296161,\n",
       "        -0.01832981],\n",
       "       [-0.0214932 , -0.04595647,  0.        , -0.14769268,  0.02202633,\n",
       "         0.03025298],\n",
       "       [ 0.02473931, -0.03914008,  0.14769268,  0.        , -0.14714837,\n",
       "         0.06671926],\n",
       "       [ 0.11288055, -0.09296161, -0.02202633,  0.14714837,  0.        ,\n",
       "         0.19425025],\n",
       "       [-0.10015587,  0.01832981, -0.03025298, -0.06671926, -0.19425025,\n",
       "         0.        ]])"
      ]
     },
     "execution_count": 61,
     "metadata": {},
     "output_type": "execute_result"
    }
   ],
   "source": [
    "vec2mat(m_skew)"
   ]
  },
  {
   "cell_type": "code",
   "execution_count": 67,
   "metadata": {},
   "outputs": [],
   "source": [
    "def optimize_skew(m_skew, X_prestate, dX):\n",
    "    def objective(x, X_prestate, dX):\n",
    "        f = np.linalg.norm(dX - X_prestate@vec2mat(x))\n",
    "        return f**2\n",
    "    def derivative(x, X_prestate, dX):\n",
    "        D = dX - X_prestate@vec2mat(x)\n",
    "        D = D.T @ X_prestate\n",
    "        return 2*mat2vec(D - D.T)\n",
    "    \n",
    "    return optimize.minimize(objective, m_skew, jac = derivative, args=(X_prestate, dX))"
   ]
  },
  {
   "cell_type": "code",
   "execution_count": 69,
   "metadata": {},
   "outputs": [],
   "source": [
    "result = optimize_skew(m_skew, X_prestate, dX)\n",
    "m_star = result.x"
   ]
  },
  {
   "cell_type": "code",
   "execution_count": 78,
   "metadata": {},
   "outputs": [
    {
     "name": "stdout",
     "output_type": "stream",
     "text": [
      "[[ 0.         -0.09093967  0.00462909 -0.0024506  -0.00979637  0.0002772 ]\n",
      " [ 0.09093967  0.          0.03637784  0.01857033  0.01674314 -0.00111542]\n",
      " [-0.00462909 -0.03637784  0.         -0.14404759  0.01828862  0.02939032]\n",
      " [ 0.0024506  -0.01857033  0.14404759  0.         -0.10559591  0.0274157 ]\n",
      " [ 0.00979637 -0.01674314 -0.01828862  0.10559591  0.          0.19456586]\n",
      " [-0.0002772   0.00111542 -0.02939032 -0.0274157  -0.19456586  0.        ]]\n"
     ]
    },
    {
     "data": {
      "text/plain": [
       "True"
      ]
     },
     "execution_count": 78,
     "metadata": {},
     "output_type": "execute_result"
    }
   ],
   "source": [
    "M_star = vec2mat(m_star)\n",
    "print(M_star)\n",
    "(np.isclose(M_star.T, -M_star)).all()"
   ]
  },
  {
   "cell_type": "markdown",
   "metadata": {},
   "source": [
    "## Get components"
   ]
  },
  {
   "cell_type": "code",
   "execution_count": 79,
   "metadata": {},
   "outputs": [
    {
     "data": {
      "text/plain": [
       "(array([-4.00043713e-13+0.23058957j, -4.00043713e-13-0.23058957j,\n",
       "        -9.31998402e-13+0.08349076j, -9.31998402e-13-0.08349076j,\n",
       "         1.33208028e-12+0.1480101j ,  1.33208028e-12-0.1480101j ]),\n",
       " array([[ 0.00569288+0.05562876j,  0.00569288-0.05562876j,\n",
       "         -0.67743378+0.j        , -0.67743378-0.j        ,\n",
       "          0.18479485-0.06170388j,  0.18479485+0.06170388j],\n",
       "        [ 0.05649337-0.02435237j,  0.05649337+0.02435237j,\n",
       "          0.00114418+0.63178732j,  0.00114418-0.63178732j,\n",
       "         -0.08982334-0.2983131j , -0.08982334+0.2983131j ],\n",
       "        [-0.20602622+0.00834137j, -0.20602622-0.00834137j,\n",
       "          0.17465813+0.110003j  ,  0.17465813-0.110003j  ,\n",
       "          0.64410985+0.j        ,  0.64410985-0.j        ],\n",
       "        [ 0.07264157+0.44550322j,  0.07264157-0.44550322j,\n",
       "          0.09004153-0.21667149j,  0.09004153+0.21667149j,\n",
       "          0.03005386-0.49019674j,  0.03005386+0.49019674j],\n",
       "        [ 0.66791704+0.j        ,  0.66791704-0.j        ,\n",
       "          0.04918575+0.02056974j,  0.04918575-0.02056974j,\n",
       "          0.19679096+0.11098555j,  0.19679096-0.11098555j],\n",
       "        [-0.05421547+0.54568279j, -0.05421547-0.54568279j,\n",
       "         -0.00707007+0.20340716j, -0.00707007-0.20340716j,\n",
       "         -0.05722953+0.39318099j, -0.05722953-0.39318099j]]))"
      ]
     },
     "execution_count": 79,
     "metadata": {},
     "output_type": "execute_result"
    }
   ],
   "source": [
    "np.linalg.eig(M_star)"
   ]
  },
  {
   "cell_type": "code",
   "execution_count": null,
   "metadata": {},
   "outputs": [],
   "source": []
  }
 ],
 "metadata": {
  "kernelspec": {
   "display_name": "Python 3",
   "language": "python",
   "name": "python3"
  },
  "language_info": {
   "codemirror_mode": {
    "name": "ipython",
    "version": 3
   },
   "file_extension": ".py",
   "mimetype": "text/x-python",
   "name": "python",
   "nbconvert_exporter": "python",
   "pygments_lexer": "ipython3",
   "version": "3.8.1"
  }
 },
 "nbformat": 4,
 "nbformat_minor": 4
}
