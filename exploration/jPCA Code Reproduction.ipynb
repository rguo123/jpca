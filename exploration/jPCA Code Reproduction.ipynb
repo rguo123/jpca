{
 "cells": [
  {
   "cell_type": "markdown",
   "metadata": {},
   "source": [
    "# jPCA\n",
    "This notebook is to reproduce jPCA functionality.\n",
    "\n",
    "## Load in example data\n",
    "For development, we will focus on just one condition. "
   ]
  },
  {
   "cell_type": "code",
   "execution_count": 2,
   "metadata": {},
   "outputs": [],
   "source": [
    "import numpy as np\n",
    "from matplotlib import pyplot as plt\n",
    "from sklearn.decomposition import PCA\n",
    "from math import sqrt\n",
    "from scipy import optimize"
   ]
  },
  {
   "cell_type": "code",
   "execution_count": 5,
   "metadata": {},
   "outputs": [],
   "source": [
    "from scipy.io import loadmat\n",
    "\n",
    "x = loadmat(\"../data/exampleData.mat\")\n",
    "x = x['Data'][0][0][0]\n",
    "X = np.array(x)"
   ]
  },
  {
   "cell_type": "markdown",
   "metadata": {},
   "source": [
    "## 1. Preprocess using PCA\n",
    "There's another normalization preproc step but it is more data relevant than algo relevant so I will be leaving it out until later."
   ]
  },
  {
   "cell_type": "code",
   "execution_count": 4,
   "metadata": {},
   "outputs": [],
   "source": [
    "def pca_preproc(X, k):\n",
    "    pca = PCA(n_components=k)\n",
    "    pca.fit(X)\n",
    "    X_red = pca.transform(X)\n",
    "    return X_red, pca.explained_variance_ratio_"
   ]
  },
  {
   "cell_type": "code",
   "execution_count": 6,
   "metadata": {},
   "outputs": [
    {
     "data": {
      "text/plain": [
       "(61, 218)"
      ]
     },
     "execution_count": 6,
     "metadata": {},
     "output_type": "execute_result"
    }
   ],
   "source": [
    "X.shape"
   ]
  },
  {
   "cell_type": "code",
   "execution_count": 11,
   "metadata": {},
   "outputs": [],
   "source": [
    "X_red, _ = pca_preproc(X, k=6)"
   ]
  },
  {
   "cell_type": "code",
   "execution_count": 12,
   "metadata": {},
   "outputs": [
    {
     "data": {
      "text/plain": [
       "(61, 6)"
      ]
     },
     "execution_count": 12,
     "metadata": {},
     "output_type": "execute_result"
    }
   ],
   "source": [
    "X_red.shape"
   ]
  },
  {
   "cell_type": "markdown",
   "metadata": {},
   "source": [
    "## 2. Get Discrete Derivative of X_red\n",
    "Need to save X minus final state as it is used in later steps."
   ]
  },
  {
   "cell_type": "code",
   "execution_count": 14,
   "metadata": {},
   "outputs": [],
   "source": [
    "X_prestate = X_red[:-1,]\n",
    "dX = np.diff(X_red, axis=0)"
   ]
  },
  {
   "cell_type": "code",
   "execution_count": 22,
   "metadata": {},
   "outputs": [
    {
     "name": "stdout",
     "output_type": "stream",
     "text": [
      "(60, 6)\n",
      "(60, 6)\n"
     ]
    }
   ],
   "source": [
    "print(X_prestate.shape)\n",
    "print(dX.shape)"
   ]
  },
  {
   "cell_type": "markdown",
   "metadata": {},
   "source": [
    "## 3. Solve for M_skew\n",
    "The most important step"
   ]
  },
  {
   "cell_type": "code",
   "execution_count": 25,
   "metadata": {},
   "outputs": [],
   "source": [
    "M0, _, _, _ = np.linalg.lstsq(X_prestate, dX, rcond=None)\n",
    "M0_skew = .5*(M0 - M0.T)"
   ]
  },
  {
   "cell_type": "code",
   "execution_count": 29,
   "metadata": {},
   "outputs": [
    {
     "name": "stdout",
     "output_type": "stream",
     "text": [
      "[[ 0.         -0.09082191  0.0214932  -0.02473931 -0.11288055  0.10015587]\n",
      " [ 0.09082191  0.          0.04595647  0.03914008  0.09296161 -0.01832981]\n",
      " [-0.0214932  -0.04595647  0.         -0.14769268  0.02202633  0.03025298]\n",
      " [ 0.02473931 -0.03914008  0.14769268  0.         -0.14714837  0.06671926]\n",
      " [ 0.11288055 -0.09296161 -0.02202633  0.14714837  0.          0.19425025]\n",
      " [-0.10015587  0.01832981 -0.03025298 -0.06671926 -0.19425025  0.        ]]\n"
     ]
    }
   ],
   "source": [
    "M0.shape\n",
    "print(M0_skew)"
   ]
  },
  {
   "cell_type": "code",
   "execution_count": 36,
   "metadata": {},
   "outputs": [],
   "source": [
    "def mat2vec(mat):\n",
    "    return mat.flatten('F')\n",
    "\n",
    "\n",
    "def vec2mat(vec):\n",
    "    shape = (int(sqrt(vec.size)), -1)\n",
    "    return np.reshape(vec, shape, 'F')"
   ]
  },
  {
   "cell_type": "code",
   "execution_count": 81,
   "metadata": {},
   "outputs": [
    {
     "name": "stdout",
     "output_type": "stream",
     "text": [
      "[[ 0.         -0.09082191  0.0214932  -0.02473931 -0.11288055  0.10015587]\n",
      " [ 0.09082191  0.          0.04595647  0.03914008  0.09296161 -0.01832981]\n",
      " [-0.0214932  -0.04595647  0.         -0.14769268  0.02202633  0.03025298]\n",
      " [ 0.02473931 -0.03914008  0.14769268  0.         -0.14714837  0.06671926]\n",
      " [ 0.11288055 -0.09296161 -0.02202633  0.14714837  0.          0.19425025]\n",
      " [-0.10015587  0.01832981 -0.03025298 -0.06671926 -0.19425025  0.        ]]\n"
     ]
    }
   ],
   "source": [
    "m_skew = mat2vec(M0_skew)\n",
    "print(M0_skew)"
   ]
  },
  {
   "cell_type": "code",
   "execution_count": 61,
   "metadata": {},
   "outputs": [
    {
     "data": {
      "text/plain": [
       "array([[ 0.        , -0.09082191,  0.0214932 , -0.02473931, -0.11288055,\n",
       "         0.10015587],\n",
       "       [ 0.09082191,  0.        ,  0.04595647,  0.03914008,  0.09296161,\n",
       "        -0.01832981],\n",
       "       [-0.0214932 , -0.04595647,  0.        , -0.14769268,  0.02202633,\n",
       "         0.03025298],\n",
       "       [ 0.02473931, -0.03914008,  0.14769268,  0.        , -0.14714837,\n",
       "         0.06671926],\n",
       "       [ 0.11288055, -0.09296161, -0.02202633,  0.14714837,  0.        ,\n",
       "         0.19425025],\n",
       "       [-0.10015587,  0.01832981, -0.03025298, -0.06671926, -0.19425025,\n",
       "         0.        ]])"
      ]
     },
     "execution_count": 61,
     "metadata": {},
     "output_type": "execute_result"
    }
   ],
   "source": [
    "vec2mat(m_skew)"
   ]
  },
  {
   "cell_type": "code",
   "execution_count": 83,
   "metadata": {},
   "outputs": [],
   "source": [
    "def optimize_skew(m_skew, X_prestate, dX):\n",
    "    def objective(x, X_prestate, dX):\n",
    "        f = np.linalg.norm(dX - X_prestate@vec2mat(x))\n",
    "        print(f**2)\n",
    "        return f**2\n",
    "    def derivative(x, X_prestate, dX):\n",
    "        D = dX - X_prestate@vec2mat(x)\n",
    "        D = D.T @ X_prestate\n",
    "        return 2*mat2vec(D - D.T)\n",
    "    \n",
    "    return optimize.minimize(objective, m_skew, jac = derivative, args=(X_prestate, dX))"
   ]
  },
  {
   "cell_type": "code",
   "execution_count": 84,
   "metadata": {},
   "outputs": [
    {
     "name": "stdout",
     "output_type": "stream",
     "text": [
      "13801.905141781448\n",
      "129179.66442183542\n",
      "6799.093190283108\n",
      "78768.74124039421\n",
      "9085.16108631772\n",
      "6729.116148707327\n",
      "6682.759415764926\n",
      "6651.977857036464\n",
      "6684.171057530328\n",
      "6649.322542447192\n",
      "6653.803740357944\n",
      "6649.246994675899\n",
      "6649.178424929027\n",
      "6649.143640207348\n",
      "6649.109553896648\n",
      "6648.994133817781\n",
      "6648.874513565552\n",
      "6648.756853422414\n",
      "6648.349339082117\n",
      "6648.077103103607\n",
      "6647.806545356083\n",
      "6646.81232618145\n",
      "6645.683054869719\n",
      "6644.542837308314\n",
      "6639.988896331868\n",
      "6621.8840007328245\n",
      "6551.238311244518\n",
      "6297.037839817151\n",
      "5953.913803521631\n",
      "4761.570276574062\n",
      "3451.140218052275\n",
      "2495.389555738806\n",
      "2260.397388180093\n",
      "      fun: 2260.397388180093\n",
      " hess_inv: array([[ 1.00000000e+00,  0.00000000e+00,  0.00000000e+00, ...,\n",
      "         0.00000000e+00,  0.00000000e+00,  0.00000000e+00],\n",
      "       [ 0.00000000e+00,  5.00000335e-01,  1.98235206e-09, ...,\n",
      "         1.62733553e-12, -2.59128856e-13,  0.00000000e+00],\n",
      "       [ 0.00000000e+00,  1.98235206e-09,  5.00000512e-01, ...,\n",
      "         1.22568052e-10, -1.82695718e-11,  0.00000000e+00],\n",
      "       ...,\n",
      "       [ 0.00000000e+00,  1.62733906e-12,  1.22568062e-10, ...,\n",
      "         5.00006061e-01, -2.71333416e-07,  0.00000000e+00],\n",
      "       [ 0.00000000e+00, -2.59137077e-13, -1.82694785e-11, ...,\n",
      "        -2.71333416e-07,  5.00018626e-01,  0.00000000e+00],\n",
      "       [ 0.00000000e+00,  0.00000000e+00,  0.00000000e+00, ...,\n",
      "         0.00000000e+00,  0.00000000e+00,  1.00000000e+00]])\n",
      "      jac: array([ 0.00000000e+00, -3.34716788e-08, -1.48342224e-07,  3.09251845e-07,\n",
      "        4.35169113e-07, -2.82278734e-06,  3.34716788e-08,  0.00000000e+00,\n",
      "        2.00436261e-07, -2.49623099e-07,  1.00269335e-06, -4.13822249e-07,\n",
      "        1.48342224e-07, -2.00436261e-07,  0.00000000e+00,  4.42764758e-09,\n",
      "        7.04045533e-09, -2.06644835e-09, -3.09251845e-07,  2.49623099e-07,\n",
      "       -4.42764758e-09,  0.00000000e+00,  3.67117536e-09,  1.05435447e-08,\n",
      "       -4.35169113e-07, -1.00269335e-06, -7.04045533e-09, -3.67117536e-09,\n",
      "        0.00000000e+00, -4.95276709e-09,  2.82278734e-06,  4.13822249e-07,\n",
      "        2.06644835e-09, -1.05435447e-08,  4.95276709e-09,  0.00000000e+00])\n",
      "  message: 'Optimization terminated successfully.'\n",
      "     nfev: 33\n",
      "      nit: 19\n",
      "     njev: 33\n",
      "   status: 0\n",
      "  success: True\n",
      "        x: array([ 0.        ,  0.09093967, -0.00462909,  0.0024506 ,  0.00979637,\n",
      "       -0.0002772 , -0.09093967,  0.        , -0.03637784, -0.01857033,\n",
      "       -0.01674314,  0.00111542,  0.00462909,  0.03637784,  0.        ,\n",
      "        0.14404759, -0.01828862, -0.02939032, -0.0024506 ,  0.01857033,\n",
      "       -0.14404759,  0.        ,  0.10559591, -0.0274157 , -0.00979637,\n",
      "        0.01674314,  0.01828862, -0.10559591,  0.        , -0.19456586,\n",
      "        0.0002772 , -0.00111542,  0.02939032,  0.0274157 ,  0.19456586,\n",
      "        0.        ])\n"
     ]
    }
   ],
   "source": [
    "result = optimize_skew(m_skew, X_prestate, dX)\n",
    "print(result)\n",
    "m_star = result.x"
   ]
  },
  {
   "cell_type": "code",
   "execution_count": 78,
   "metadata": {},
   "outputs": [
    {
     "name": "stdout",
     "output_type": "stream",
     "text": [
      "[[ 0.         -0.09093967  0.00462909 -0.0024506  -0.00979637  0.0002772 ]\n",
      " [ 0.09093967  0.          0.03637784  0.01857033  0.01674314 -0.00111542]\n",
      " [-0.00462909 -0.03637784  0.         -0.14404759  0.01828862  0.02939032]\n",
      " [ 0.0024506  -0.01857033  0.14404759  0.         -0.10559591  0.0274157 ]\n",
      " [ 0.00979637 -0.01674314 -0.01828862  0.10559591  0.          0.19456586]\n",
      " [-0.0002772   0.00111542 -0.02939032 -0.0274157  -0.19456586  0.        ]]\n"
     ]
    },
    {
     "data": {
      "text/plain": [
       "True"
      ]
     },
     "execution_count": 78,
     "metadata": {},
     "output_type": "execute_result"
    }
   ],
   "source": [
    "M_star = vec2mat(m_star)\n",
    "print(M_star)\n",
    "(np.isclose(M_star.T, -M_star)).all()"
   ]
  },
  {
   "cell_type": "markdown",
   "metadata": {},
   "source": [
    "## Get components"
   ]
  },
  {
   "cell_type": "code",
   "execution_count": 79,
   "metadata": {},
   "outputs": [
    {
     "data": {
      "text/plain": [
       "(array([-4.00043713e-13+0.23058957j, -4.00043713e-13-0.23058957j,\n",
       "        -9.31998402e-13+0.08349076j, -9.31998402e-13-0.08349076j,\n",
       "         1.33208028e-12+0.1480101j ,  1.33208028e-12-0.1480101j ]),\n",
       " array([[ 0.00569288+0.05562876j,  0.00569288-0.05562876j,\n",
       "         -0.67743378+0.j        , -0.67743378-0.j        ,\n",
       "          0.18479485-0.06170388j,  0.18479485+0.06170388j],\n",
       "        [ 0.05649337-0.02435237j,  0.05649337+0.02435237j,\n",
       "          0.00114418+0.63178732j,  0.00114418-0.63178732j,\n",
       "         -0.08982334-0.2983131j , -0.08982334+0.2983131j ],\n",
       "        [-0.20602622+0.00834137j, -0.20602622-0.00834137j,\n",
       "          0.17465813+0.110003j  ,  0.17465813-0.110003j  ,\n",
       "          0.64410985+0.j        ,  0.64410985-0.j        ],\n",
       "        [ 0.07264157+0.44550322j,  0.07264157-0.44550322j,\n",
       "          0.09004153-0.21667149j,  0.09004153+0.21667149j,\n",
       "          0.03005386-0.49019674j,  0.03005386+0.49019674j],\n",
       "        [ 0.66791704+0.j        ,  0.66791704-0.j        ,\n",
       "          0.04918575+0.02056974j,  0.04918575-0.02056974j,\n",
       "          0.19679096+0.11098555j,  0.19679096-0.11098555j],\n",
       "        [-0.05421547+0.54568279j, -0.05421547-0.54568279j,\n",
       "         -0.00707007+0.20340716j, -0.00707007-0.20340716j,\n",
       "         -0.05722953+0.39318099j, -0.05722953-0.39318099j]]))"
      ]
     },
     "execution_count": 79,
     "metadata": {},
     "output_type": "execute_result"
    }
   ],
   "source": [
    "np.linalg.eig(M_star)"
   ]
  },
  {
   "cell_type": "code",
   "execution_count": null,
   "metadata": {},
   "outputs": [],
   "source": []
  }
 ],
 "metadata": {
  "kernelspec": {
   "display_name": "Python 3",
   "language": "python",
   "name": "python3"
  },
  "language_info": {
   "codemirror_mode": {
    "name": "ipython",
    "version": 3
   },
   "file_extension": ".py",
   "mimetype": "text/x-python",
   "name": "python",
   "nbconvert_exporter": "python",
   "pygments_lexer": "ipython3",
   "version": "3.8.1"
  }
 },
 "nbformat": 4,
 "nbformat_minor": 4
}
